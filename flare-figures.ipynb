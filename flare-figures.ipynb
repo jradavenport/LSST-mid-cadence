{
 "cells": [
  {
   "cell_type": "code",
   "execution_count": 1,
   "metadata": {
    "collapsed": true
   },
   "outputs": [],
   "source": [
    "%matplotlib inline\n",
    "import numpy as np\n",
    "import matplotlib.pyplot as plt\n",
    "from os.path import expanduser\n",
    "import LSSToy2 # my toy LSST cadence model\n",
    "from appaloosa.aflare import aflare1 # my flare template"
   ]
  },
  {
   "cell_type": "markdown",
   "metadata": {},
   "source": [
    "# Import Flare Data\n",
    "This is from my previous *Kepler* study of the active M4 dwarf, GJ 1243"
   ]
  },
  {
   "cell_type": "code",
   "execution_count": 2,
   "metadata": {
    "collapsed": false
   },
   "outputs": [],
   "source": [
    "# Get the GJ 1243 flare data\n",
    "home = expanduser(\"~\")\n",
    "flaredir = home + '/research/GJ1243-Flares/data/'"
   ]
  },
  {
   "cell_type": "code",
   "execution_count": 3,
   "metadata": {
    "collapsed": false
   },
   "outputs": [],
   "source": [
    "lc = np.loadtxt(flaredir + 'gj1243_master_slc.dat', comments='#')\n",
    "fl = np.loadtxt(flaredir + 'gj1243_master_flares.tbl', comments='#')"
   ]
  },
  {
   "cell_type": "code",
   "execution_count": 4,
   "metadata": {
    "collapsed": false
   },
   "outputs": [
    {
     "data": {
      "text/plain": [
       "(434164, 4)"
      ]
     },
     "execution_count": 4,
     "metadata": {},
     "output_type": "execute_result"
    }
   ],
   "source": [
    "lc.shape \n",
    "# Columns (time, flux, error, detrended_flux)"
   ]
  },
  {
   "cell_type": "code",
   "execution_count": 5,
   "metadata": {
    "collapsed": false
   },
   "outputs": [
    {
     "data": {
      "text/plain": [
       "<matplotlib.text.Text at 0x105982410>"
      ]
     },
     "execution_count": 5,
     "metadata": {},
     "output_type": "execute_result"
    },
    {
     "data": {
      "image/png": "[encoded data removed]",
      "text/plain": [
       "<matplotlib.figure.Figure at 0x103e670d0>"
      ]
     },
     "metadata": {},
     "output_type": "display_data"
    }
   ],
   "source": [
    "plt.plot(lc[:,0], lc[:,3])\n",
    "plt.xlim(910,912)\n",
    "plt.ylim(265000, 285000)\n",
    "plt.xlabel('Time (days)')\n",
    "plt.ylabel('Flattened Flux')"
   ]
  },
  {
   "cell_type": "code",
   "execution_count": 6,
   "metadata": {
    "collapsed": false
   },
   "outputs": [
    {
     "data": {
      "text/plain": [
       "(6107, 15)"
      ]
     },
     "execution_count": 6,
     "metadata": {},
     "output_type": "execute_result"
    }
   ],
   "source": [
    "fl.shape\n",
    "# ----- Columns: -----\n",
    "# index of flare start in \"gj1243_master_slc.dat\"\n",
    "# index of flare stop in \"gj1243_master_slc.dat\"\n",
    "# t_start\n",
    "# t_stop\n",
    "# t_peak\n",
    "# t_rise\n",
    "# t_decay\n",
    "# flux peak (in fractional flux units)\n",
    "# Equivalent Duration (ED) in units of per seconds\n",
    "# Equiv. Duration of rise (t_start to t_peak)\n",
    "# Equiv. Duration of decay (t_peak to t_stop)\n",
    "# Complex flag (1=classical, 2=complex) by humans\n",
    "# Number of people that identified flare event exists\n",
    "# Number of people that analyzed this month\n",
    "# Number of flare template components fit to event (1=classical >1=complex)"
   ]
  },
  {
   "cell_type": "markdown",
   "metadata": {},
   "source": [
    "# Explore range of re-visit timescale"
   ]
  },
  {
   "cell_type": "code",
   "execution_count": 7,
   "metadata": {
    "collapsed": false
   },
   "outputs": [],
   "source": [
    "# the start of the GJ 1243 light curve\n",
    "mintime = lc[:,0].min()\n",
    "\n",
    "dt_min = 2./60. # 5 minutes\n",
    "dt_max = 4.\n",
    "\n",
    "Nvisits = 500\n",
    "\n",
    "Ntrials = 50\n",
    "\n",
    "dt_range = np.logspace(np.log10(dt_min), np.log10(dt_max), num=Ntrials)"
   ]
  },
  {
   "cell_type": "code",
   "execution_count": 8,
   "metadata": {
    "collapsed": false
   },
   "outputs": [
    {
     "name": "stdout",
     "output_type": "stream",
     "text": [
      "revisit time:\n",
      "0.0416666666667\n",
      "mean time between visits:\n",
      "1.49307850414\n",
      "median time between visits:\n",
      "0.247814587804\n"
     ]
    },
    {
     "data": {
      "image/png": "[encoded data removed]",
      "text/plain": [
       "<matplotlib.figure.Figure at 0x103e469d0>"
      ]
     },
     "metadata": {},
     "output_type": "display_data"
    }
   ],
   "source": [
    "# one example of what we simulate each time\n",
    "epoch = LSSToy2.generate_visits(Nvisits=Nvisits, tspan=2., stat=True, revisit=1., t0=mintime)"
   ]
  },
  {
   "cell_type": "code",
   "execution_count": 9,
   "metadata": {
    "collapsed": false
   },
   "outputs": [],
   "source": [
    "e_rec_final = np.zeros_like(dt_range)\n",
    "e_err_final = np.zeros_like(dt_range)\n",
    "\n",
    "for k in range(Ntrials):\n",
    "    epoch = LSSToy2.generate_visits(Nvisits=Nvisits, tspan=2., revisit=dt_range[k], t0=mintime)\n",
    "\n",
    "    # down-sample the GJ 1243 light curve to the new epochs\n",
    "    fdown = np.interp(epoch, lc[:,0], lc[:,3] / np.median(lc[:,3]) - 1.)\n",
    "\n",
    "    e_rec = np.array([])\n",
    "\n",
    "    # scan thru every epoch, see if any known flares are intersected\n",
    "    for j in range(0, len(epoch), 2):\n",
    "        is_fl = np.where(((epoch[j] >= fl[:,2]) & (epoch[j] <= fl[:,3])) | \n",
    "                         ((epoch[j+1] >= fl[:,2]) & (epoch[j+1] <= fl[:,3])))\n",
    "\n",
    "        # if there IS a flare, grab the nearest epoch\n",
    "        if len(is_fl[0]) > 0:\n",
    "            tt = epoch[j:j+2]\n",
    "            ff = fdown[j:j+2]\n",
    "\n",
    "            e_true = fl[is_fl[0], 8] # equiv duration (in seconds)\n",
    "\n",
    "            e_fit = np.trapz(ff, x=(tt-tt.min()*86400.))\n",
    "\n",
    "            e_rec = np.concatenate((e_rec, e_fit/e_true))\n",
    "\n",
    "    e_rec_final[k] = np.median(e_rec)\n",
    "    e_err_final[k] = np.std(e_rec)"
   ]
  },
  {
   "cell_type": "code",
   "execution_count": 11,
   "metadata": {
    "collapsed": false
   },
   "outputs": [
    {
     "data": {
      "image/png": "[encoded data removed]",
      "text/plain": [
       "<matplotlib.figure.Figure at 0x10b927210>"
      ]
     },
     "metadata": {},
     "output_type": "display_data"
    }
   ],
   "source": [
    "plt.plot(dt_range*24., e_rec_final)\n",
    "plt.xscale('log')\n"
   ]
  },
  {
   "cell_type": "markdown",
   "metadata": {},
   "source": [
    "Hm.... no good. Flare energies are not right at all"
   ]
  },
  {
   "cell_type": "code",
   "execution_count": null,
   "metadata": {
    "collapsed": true
   },
   "outputs": [],
   "source": []
  }
 ],
 "metadata": {
  "kernelspec": {
   "display_name": "Python 2",
   "language": "python",
   "name": "python2"
  },
  "language_info": {
   "codemirror_mode": {
    "name": "ipython",
    "version": 2
   },
   "file_extension": ".py",
   "mimetype": "text/x-python",
   "name": "python",
   "nbconvert_exporter": "python",
   "pygments_lexer": "ipython2",
   "version": "2.7.11"
  }
 },
 "nbformat": 4,
 "nbformat_minor": 0
}
